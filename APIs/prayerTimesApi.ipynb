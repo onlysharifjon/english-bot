{
 "cells": [
  {
   "cell_type": "code",
   "execution_count": 16,
   "metadata": {
    "collapsed": true
   },
   "outputs": [],
   "source": [
    "import requests\n",
    "from pprint import pprint as print\n",
    "from jsonExtract import json_extract # jsonExtract.py"
   ]
  },
  {
   "cell_type": "code",
   "execution_count": 32,
   "outputs": [],
   "source": [
    "city = 'tashkent'\n",
    "url = f\"https://dailyprayer.abdulrcs.repl.co/api/{city}\"\n",
    "response = requests.get(url)"
   ],
   "metadata": {
    "collapsed": false,
    "pycharm": {
     "name": "#%%\n"
    }
   }
  },
  {
   "cell_type": "code",
   "execution_count": 33,
   "outputs": [
    {
     "data": {
      "text/plain": "200"
     },
     "execution_count": 33,
     "metadata": {},
     "output_type": "execute_result"
    }
   ],
   "source": [
    "response.status_code"
   ],
   "metadata": {
    "collapsed": false,
    "pycharm": {
     "name": "#%%\n"
    }
   }
  },
  {
   "cell_type": "code",
   "execution_count": 34,
   "outputs": [
    {
     "name": "stdout",
     "output_type": "stream",
     "text": [
      "{'city': 'Tashkent',\n",
      " 'date': 'Tue,15 Nov 2022',\n",
      " 'today': {'Asr': '14:43',\n",
      "           'Dhuhr': '12:08',\n",
      "           'Fajr': '05:36',\n",
      "           \"Isha'a\": '18:34',\n",
      "           'Maghrib': '17:08',\n",
      "           'Sunrise': '07:07'},\n",
      " 'tomorrow': {'Asr': '14:42',\n",
      "              'Dhuhr': '12:08',\n",
      "              'Fajr': '05:37',\n",
      "              \"Isha'a\": '18:34',\n",
      "              'Maghrib': '17:07',\n",
      "              'Sunrise': '07:08'}}\n"
     ]
    }
   ],
   "source": [
    "json_data = response.json()\n",
    "print(json_data)"
   ],
   "metadata": {
    "collapsed": false,
    "pycharm": {
     "name": "#%%\n"
    }
   }
  },
  {
   "cell_type": "code",
   "execution_count": 35,
   "outputs": [
    {
     "data": {
      "text/plain": "dict_keys(['city', 'date', 'today', 'tomorrow'])"
     },
     "execution_count": 35,
     "metadata": {},
     "output_type": "execute_result"
    }
   ],
   "source": [
    "json_data.keys()"
   ],
   "metadata": {
    "collapsed": false,
    "pycharm": {
     "name": "#%%\n"
    }
   }
  },
  {
   "cell_type": "code",
   "execution_count": 36,
   "outputs": [
    {
     "name": "stdout",
     "output_type": "stream",
     "text": [
      "'Tashkent'\n"
     ]
    }
   ],
   "source": [
    "city = json_data['city']\n",
    "print(city)"
   ],
   "metadata": {
    "collapsed": false,
    "pycharm": {
     "name": "#%%\n"
    }
   }
  },
  {
   "cell_type": "code",
   "execution_count": 38,
   "outputs": [
    {
     "name": "stdout",
     "output_type": "stream",
     "text": [
      "'Tue,15 Nov 2022'\n"
     ]
    }
   ],
   "source": [
    "date = json_data['date']\n",
    "print(date)"
   ],
   "metadata": {
    "collapsed": false,
    "pycharm": {
     "name": "#%%\n"
    }
   }
  },
  {
   "cell_type": "code",
   "execution_count": 39,
   "outputs": [
    {
     "name": "stdout",
     "output_type": "stream",
     "text": [
      "{'Asr': '14:43',\n",
      " 'Dhuhr': '12:08',\n",
      " 'Fajr': '05:36',\n",
      " \"Isha'a\": '18:34',\n",
      " 'Maghrib': '17:08',\n",
      " 'Sunrise': '07:07'}\n"
     ]
    }
   ],
   "source": [
    "today_prayer_times = json_data['today']\n",
    "print(today_prayer_times)"
   ],
   "metadata": {
    "collapsed": false,
    "pycharm": {
     "name": "#%%\n"
    }
   }
  },
  {
   "cell_type": "code",
   "execution_count": 40,
   "outputs": [
    {
     "name": "stdout",
     "output_type": "stream",
     "text": [
      "{'Asr': '14:42',\n",
      " 'Dhuhr': '12:08',\n",
      " 'Fajr': '05:37',\n",
      " \"Isha'a\": '18:34',\n",
      " 'Maghrib': '17:07',\n",
      " 'Sunrise': '07:08'}\n"
     ]
    }
   ],
   "source": [
    "tomorrow_prayer_times = json_data['tomorrow']\n",
    "print(tomorrow_prayer_times)"
   ],
   "metadata": {
    "collapsed": false,
    "pycharm": {
     "name": "#%%\n"
    }
   }
  },
  {
   "cell_type": "code",
   "execution_count": 41,
   "outputs": [
    {
     "name": "stdout",
     "output_type": "stream",
     "text": [
      "['14:43', '14:42']\n"
     ]
    }
   ],
   "source": [
    "print(json_extract(json_data, 'Asr'))"
   ],
   "metadata": {
    "collapsed": false,
    "pycharm": {
     "name": "#%%\n"
    }
   }
  },
  {
   "cell_type": "code",
   "execution_count": 43,
   "outputs": [
    {
     "name": "stdout",
     "output_type": "stream",
     "text": [
      "['07:07', '07:08']\n"
     ]
    }
   ],
   "source": [
    "print(json_extract(json_data, 'Sunrise'))"
   ],
   "metadata": {
    "collapsed": false,
    "pycharm": {
     "name": "#%%\n"
    }
   }
  },
  {
   "cell_type": "code",
   "execution_count": null,
   "outputs": [],
   "source": [],
   "metadata": {
    "collapsed": false,
    "pycharm": {
     "name": "#%%\n"
    }
   }
  }
 ],
 "metadata": {
  "kernelspec": {
   "display_name": "Python 3",
   "language": "python",
   "name": "python3"
  },
  "language_info": {
   "codemirror_mode": {
    "name": "ipython",
    "version": 2
   },
   "file_extension": ".py",
   "mimetype": "text/x-python",
   "name": "python",
   "nbconvert_exporter": "python",
   "pygments_lexer": "ipython2",
   "version": "2.7.6"
  }
 },
 "nbformat": 4,
 "nbformat_minor": 0
}