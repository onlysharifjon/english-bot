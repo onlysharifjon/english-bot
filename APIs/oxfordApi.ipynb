{
 "cells": [
  {
   "cell_type": "code",
   "execution_count": 1,
   "metadata": {
    "collapsed": true
   },
   "outputs": [],
   "source": [
    "import requests\n",
    "from pprint import pprint as print\n",
    "from jsonExtract import json_extract"
   ]
  },
  {
   "cell_type": "code",
   "execution_count": 10,
   "outputs": [],
   "source": [
    "app_id = \"8e231c24\"\n",
    "app_key = \"0af504cce94d96482aebcdcfa52b954f\"\n",
    "language = \"en-gb\"\n",
    "word_id = \"python\""
   ],
   "metadata": {
    "collapsed": false,
    "pycharm": {
     "name": "#%%\n"
    }
   }
  },
  {
   "cell_type": "code",
   "execution_count": 11,
   "outputs": [],
   "source": [
    "url = \"https://od-api.oxforddictionaries.com:443/api/v2/entries/\" + language + \"/\" + word_id.lower()\n",
    "r = requests.get(url, headers={\"app_id\": app_id, \"app_key\": app_key})"
   ],
   "metadata": {
    "collapsed": false,
    "pycharm": {
     "name": "#%%\n"
    }
   }
  },
  {
   "cell_type": "code",
   "execution_count": 13,
   "outputs": [
    {
     "data": {
      "text/plain": "200"
     },
     "execution_count": 13,
     "metadata": {},
     "output_type": "execute_result"
    }
   ],
   "source": [
    "r.status_code"
   ],
   "metadata": {
    "collapsed": false,
    "pycharm": {
     "name": "#%%\n"
    }
   }
  },
  {
   "cell_type": "code",
   "execution_count": 14,
   "outputs": [],
   "source": [
    "json_data = r.json()"
   ],
   "metadata": {
    "collapsed": false,
    "pycharm": {
     "name": "#%%\n"
    }
   }
  },
  {
   "cell_type": "code",
   "execution_count": 15,
   "outputs": [
    {
     "name": "stdout",
     "output_type": "stream",
     "text": [
      "{'id': 'python',\n",
      " 'metadata': {'operation': 'retrieve',\n",
      "              'provider': 'Oxford University Press',\n",
      "              'schema': 'RetrieveEntry'},\n",
      " 'results': [{'id': 'python',\n",
      "              'language': 'en-gb',\n",
      "              'lexicalEntries': [{'derivatives': [{'id': 'pythonic',\n",
      "                                                   'text': 'pythonic'}],\n",
      "                                  'entries': [{'etymologies': ['late Middle '\n",
      "                                                               'English (in '\n",
      "                                                               'the Greek '\n",
      "                                                               'sense): via '\n",
      "                                                               'Latin from '\n",
      "                                                               'Greek Puthōn, '\n",
      "                                                               'the name of a '\n",
      "                                                               'huge serpent '\n",
      "                                                               'killed by '\n",
      "                                                               'Apollo. The '\n",
      "                                                               'main current '\n",
      "                                                               'sense dates '\n",
      "                                                               'from the early '\n",
      "                                                               '19th century'],\n",
      "                                               'pronunciations': [{'audioFile': 'https://audio.oxforddictionaries.com/en/mp3/python_1_gb_2.mp3',\n",
      "                                                                   'dialects': ['British '\n",
      "                                                                                'English'],\n",
      "                                                                   'phoneticNotation': 'IPA',\n",
      "                                                                   'phoneticSpelling': 'ˈpʌɪθn'}],\n",
      "                                               'senses': [{'definitions': ['a '\n",
      "                                                                           'large '\n",
      "                                                                           'heavy-bodied '\n",
      "                                                                           'non-venomous '\n",
      "                                                                           'snake '\n",
      "                                                                           'occurring '\n",
      "                                                                           'throughout '\n",
      "                                                                           'the '\n",
      "                                                                           'Old '\n",
      "                                                                           'World '\n",
      "                                                                           'tropics, '\n",
      "                                                                           'killing '\n",
      "                                                                           'prey '\n",
      "                                                                           'by '\n",
      "                                                                           'constriction '\n",
      "                                                                           'and '\n",
      "                                                                           'asphyxiation.'],\n",
      "                                                           'domainClasses': [{'id': 'reptile',\n",
      "                                                                              'text': 'Reptile'}],\n",
      "                                                           'id': 'm_en_gbus0833540.009',\n",
      "                                                           'notes': [{'text': 'Family '\n",
      "                                                                              'Pythonidae: '\n",
      "                                                                              'genera '\n",
      "                                                                              'Python '\n",
      "                                                                              '(of '\n",
      "                                                                              'Asia '\n",
      "                                                                              'and '\n",
      "                                                                              'Africa), '\n",
      "                                                                              'and '\n",
      "                                                                              'Morelia '\n",
      "                                                                              'and '\n",
      "                                                                              'Aspidites '\n",
      "                                                                              '(of '\n",
      "                                                                              'Australasia)',\n",
      "                                                                      'type': 'technicalNote'}],\n",
      "                                                           'semanticClasses': [{'id': 'snake',\n",
      "                                                                                'text': 'Snake'}],\n",
      "                                                           'shortDefinitions': ['large '\n",
      "                                                                                'heavy-bodied '\n",
      "                                                                                'non-venomous '\n",
      "                                                                                'snake '\n",
      "                                                                                'occurring '\n",
      "                                                                                'throughout '\n",
      "                                                                                'Old '\n",
      "                                                                                'World '\n",
      "                                                                                'tropics']},\n",
      "                                                          {'definitions': ['a '\n",
      "                                                                           'high-level '\n",
      "                                                                           'general-purpose '\n",
      "                                                                           'programming '\n",
      "                                                                           'language.'],\n",
      "                                                           'domainClasses': [{'id': 'computing',\n",
      "                                                                              'text': 'Computing'}],\n",
      "                                                           'domains': [{'id': 'computing',\n",
      "                                                                        'text': 'Computing'}],\n",
      "                                                           'id': 'm_en_gbus0833540.014',\n",
      "                                                           'notes': [{'text': 'mass '\n",
      "                                                                              'noun',\n",
      "                                                                      'type': 'grammaticalNote'}],\n",
      "                                                           'semanticClasses': [{'id': 'computer_language',\n",
      "                                                                                'text': 'Computer_Language'}],\n",
      "                                                           'shortDefinitions': ['high-level '\n",
      "                                                                                'general-purpose '\n",
      "                                                                                'programming '\n",
      "                                                                                'language'],\n",
      "                                                           'variantForms': [{'text': 'Python'}]}]}],\n",
      "                                  'language': 'en-gb',\n",
      "                                  'lexicalCategory': {'id': 'noun',\n",
      "                                                      'text': 'Noun'},\n",
      "                                  'text': 'python'}],\n",
      "              'type': 'headword',\n",
      "              'word': 'python'}],\n",
      " 'word': 'python'}\n"
     ]
    }
   ],
   "source": [
    "print(json_data)"
   ],
   "metadata": {
    "collapsed": false,
    "pycharm": {
     "name": "#%%\n"
    }
   }
  },
  {
   "cell_type": "code",
   "execution_count": 16,
   "outputs": [
    {
     "data": {
      "text/plain": "dict_keys(['id', 'metadata', 'results', 'word'])"
     },
     "execution_count": 16,
     "metadata": {},
     "output_type": "execute_result"
    }
   ],
   "source": [
    "json_data.keys()"
   ],
   "metadata": {
    "collapsed": false,
    "pycharm": {
     "name": "#%%\n"
    }
   }
  },
  {
   "cell_type": "code",
   "execution_count": 21,
   "outputs": [
    {
     "data": {
      "text/plain": "'python'"
     },
     "execution_count": 21,
     "metadata": {},
     "output_type": "execute_result"
    }
   ],
   "source": [
    "json_data['id']"
   ],
   "metadata": {
    "collapsed": false,
    "pycharm": {
     "name": "#%%\n"
    }
   }
  },
  {
   "cell_type": "code",
   "execution_count": 22,
   "outputs": [
    {
     "data": {
      "text/plain": "{'operation': 'retrieve',\n 'provider': 'Oxford University Press',\n 'schema': 'RetrieveEntry'}"
     },
     "execution_count": 22,
     "metadata": {},
     "output_type": "execute_result"
    }
   ],
   "source": [
    "json_data['metadata']"
   ],
   "metadata": {
    "collapsed": false,
    "pycharm": {
     "name": "#%%\n"
    }
   }
  },
  {
   "cell_type": "code",
   "execution_count": 26,
   "outputs": [
    {
     "name": "stdout",
     "output_type": "stream",
     "text": [
      "{'id': 'python',\n",
      " 'language': 'en-gb',\n",
      " 'lexicalEntries': [{'derivatives': [{'id': 'pythonic', 'text': 'pythonic'}],\n",
      "                     'entries': [{'etymologies': ['late Middle English (in the '\n",
      "                                                  'Greek sense): via Latin '\n",
      "                                                  'from Greek Puthōn, the name '\n",
      "                                                  'of a huge serpent killed by '\n",
      "                                                  'Apollo. The main current '\n",
      "                                                  'sense dates from the early '\n",
      "                                                  '19th century'],\n",
      "                                  'pronunciations': [{'audioFile': 'https://audio.oxforddictionaries.com/en/mp3/python_1_gb_2.mp3',\n",
      "                                                      'dialects': ['British '\n",
      "                                                                   'English'],\n",
      "                                                      'phoneticNotation': 'IPA',\n",
      "                                                      'phoneticSpelling': 'ˈpʌɪθn'}],\n",
      "                                  'senses': [{'definitions': ['a large '\n",
      "                                                              'heavy-bodied '\n",
      "                                                              'non-venomous '\n",
      "                                                              'snake occurring '\n",
      "                                                              'throughout the '\n",
      "                                                              'Old World '\n",
      "                                                              'tropics, '\n",
      "                                                              'killing prey by '\n",
      "                                                              'constriction '\n",
      "                                                              'and '\n",
      "                                                              'asphyxiation.'],\n",
      "                                              'domainClasses': [{'id': 'reptile',\n",
      "                                                                 'text': 'Reptile'}],\n",
      "                                              'id': 'm_en_gbus0833540.009',\n",
      "                                              'notes': [{'text': 'Family '\n",
      "                                                                 'Pythonidae: '\n",
      "                                                                 'genera '\n",
      "                                                                 'Python (of '\n",
      "                                                                 'Asia and '\n",
      "                                                                 'Africa), and '\n",
      "                                                                 'Morelia and '\n",
      "                                                                 'Aspidites '\n",
      "                                                                 '(of '\n",
      "                                                                 'Australasia)',\n",
      "                                                         'type': 'technicalNote'}],\n",
      "                                              'semanticClasses': [{'id': 'snake',\n",
      "                                                                   'text': 'Snake'}],\n",
      "                                              'shortDefinitions': ['large '\n",
      "                                                                   'heavy-bodied '\n",
      "                                                                   'non-venomous '\n",
      "                                                                   'snake '\n",
      "                                                                   'occurring '\n",
      "                                                                   'throughout '\n",
      "                                                                   'Old World '\n",
      "                                                                   'tropics']},\n",
      "                                             {'definitions': ['a high-level '\n",
      "                                                              'general-purpose '\n",
      "                                                              'programming '\n",
      "                                                              'language.'],\n",
      "                                              'domainClasses': [{'id': 'computing',\n",
      "                                                                 'text': 'Computing'}],\n",
      "                                              'domains': [{'id': 'computing',\n",
      "                                                           'text': 'Computing'}],\n",
      "                                              'id': 'm_en_gbus0833540.014',\n",
      "                                              'notes': [{'text': 'mass noun',\n",
      "                                                         'type': 'grammaticalNote'}],\n",
      "                                              'semanticClasses': [{'id': 'computer_language',\n",
      "                                                                   'text': 'Computer_Language'}],\n",
      "                                              'shortDefinitions': ['high-level '\n",
      "                                                                   'general-purpose '\n",
      "                                                                   'programming '\n",
      "                                                                   'language'],\n",
      "                                              'variantForms': [{'text': 'Python'}]}]}],\n",
      "                     'language': 'en-gb',\n",
      "                     'lexicalCategory': {'id': 'noun', 'text': 'Noun'},\n",
      "                     'text': 'python'}],\n",
      " 'type': 'headword',\n",
      " 'word': 'python'}\n"
     ]
    }
   ],
   "source": [
    "print(json_data['results'][0])"
   ],
   "metadata": {
    "collapsed": false,
    "pycharm": {
     "name": "#%%\n"
    }
   }
  },
  {
   "cell_type": "code",
   "execution_count": 32,
   "outputs": [
    {
     "name": "stdout",
     "output_type": "stream",
     "text": [
      "{'derivatives': [{'id': 'pythonic', 'text': 'pythonic'}],\n",
      " 'entries': [{'etymologies': ['late Middle English (in the Greek sense): via '\n",
      "                              'Latin from Greek Puthōn, the name of a huge '\n",
      "                              'serpent killed by Apollo. The main current '\n",
      "                              'sense dates from the early 19th century'],\n",
      "              'pronunciations': [{'audioFile': 'https://audio.oxforddictionaries.com/en/mp3/python_1_gb_2.mp3',\n",
      "                                  'dialects': ['British English'],\n",
      "                                  'phoneticNotation': 'IPA',\n",
      "                                  'phoneticSpelling': 'ˈpʌɪθn'}],\n",
      "              'senses': [{'definitions': ['a large heavy-bodied non-venomous '\n",
      "                                          'snake occurring throughout the Old '\n",
      "                                          'World tropics, killing prey by '\n",
      "                                          'constriction and asphyxiation.'],\n",
      "                          'domainClasses': [{'id': 'reptile',\n",
      "                                             'text': 'Reptile'}],\n",
      "                          'id': 'm_en_gbus0833540.009',\n",
      "                          'notes': [{'text': 'Family Pythonidae: genera Python '\n",
      "                                             '(of Asia and Africa), and '\n",
      "                                             'Morelia and Aspidites (of '\n",
      "                                             'Australasia)',\n",
      "                                     'type': 'technicalNote'}],\n",
      "                          'semanticClasses': [{'id': 'snake', 'text': 'Snake'}],\n",
      "                          'shortDefinitions': ['large heavy-bodied '\n",
      "                                               'non-venomous snake occurring '\n",
      "                                               'throughout Old World tropics']},\n",
      "                         {'definitions': ['a high-level general-purpose '\n",
      "                                          'programming language.'],\n",
      "                          'domainClasses': [{'id': 'computing',\n",
      "                                             'text': 'Computing'}],\n",
      "                          'domains': [{'id': 'computing', 'text': 'Computing'}],\n",
      "                          'id': 'm_en_gbus0833540.014',\n",
      "                          'notes': [{'text': 'mass noun',\n",
      "                                     'type': 'grammaticalNote'}],\n",
      "                          'semanticClasses': [{'id': 'computer_language',\n",
      "                                               'text': 'Computer_Language'}],\n",
      "                          'shortDefinitions': ['high-level general-purpose '\n",
      "                                               'programming language'],\n",
      "                          'variantForms': [{'text': 'Python'}]}]}],\n",
      " 'language': 'en-gb',\n",
      " 'lexicalCategory': {'id': 'noun', 'text': 'Noun'},\n",
      " 'text': 'python'}\n"
     ]
    }
   ],
   "source": [
    "print(json_data['results'][0]['lexicalEntries'][0])"
   ],
   "metadata": {
    "collapsed": false,
    "pycharm": {
     "name": "#%%\n"
    }
   }
  },
  {
   "cell_type": "code",
   "execution_count": 34,
   "outputs": [
    {
     "name": "stdout",
     "output_type": "stream",
     "text": [
      "{'etymologies': ['late Middle English (in the Greek sense): via Latin from '\n",
      "                 'Greek Puthōn, the name of a huge serpent killed by Apollo. '\n",
      "                 'The main current sense dates from the early 19th century'],\n",
      " 'pronunciations': [{'audioFile': 'https://audio.oxforddictionaries.com/en/mp3/python_1_gb_2.mp3',\n",
      "                     'dialects': ['British English'],\n",
      "                     'phoneticNotation': 'IPA',\n",
      "                     'phoneticSpelling': 'ˈpʌɪθn'}],\n",
      " 'senses': [{'definitions': ['a large heavy-bodied non-venomous snake '\n",
      "                             'occurring throughout the Old World tropics, '\n",
      "                             'killing prey by constriction and asphyxiation.'],\n",
      "             'domainClasses': [{'id': 'reptile', 'text': 'Reptile'}],\n",
      "             'id': 'm_en_gbus0833540.009',\n",
      "             'notes': [{'text': 'Family Pythonidae: genera Python (of Asia and '\n",
      "                                'Africa), and Morelia and Aspidites (of '\n",
      "                                'Australasia)',\n",
      "                        'type': 'technicalNote'}],\n",
      "             'semanticClasses': [{'id': 'snake', 'text': 'Snake'}],\n",
      "             'shortDefinitions': ['large heavy-bodied non-venomous snake '\n",
      "                                  'occurring throughout Old World tropics']},\n",
      "            {'definitions': ['a high-level general-purpose programming '\n",
      "                             'language.'],\n",
      "             'domainClasses': [{'id': 'computing', 'text': 'Computing'}],\n",
      "             'domains': [{'id': 'computing', 'text': 'Computing'}],\n",
      "             'id': 'm_en_gbus0833540.014',\n",
      "             'notes': [{'text': 'mass noun', 'type': 'grammaticalNote'}],\n",
      "             'semanticClasses': [{'id': 'computer_language',\n",
      "                                  'text': 'Computer_Language'}],\n",
      "             'shortDefinitions': ['high-level general-purpose programming '\n",
      "                                  'language'],\n",
      "             'variantForms': [{'text': 'Python'}]}]}\n"
     ]
    }
   ],
   "source": [
    "print(json_data['results'][0]['lexicalEntries'][0]['entries'][0])"
   ],
   "metadata": {
    "collapsed": false,
    "pycharm": {
     "name": "#%%\n"
    }
   }
  },
  {
   "cell_type": "code",
   "execution_count": 36,
   "outputs": [
    {
     "name": "stdout",
     "output_type": "stream",
     "text": [
      "{'audioFile': 'https://audio.oxforddictionaries.com/en/mp3/python_1_gb_2.mp3',\n",
      " 'dialects': ['British English'],\n",
      " 'phoneticNotation': 'IPA',\n",
      " 'phoneticSpelling': 'ˈpʌɪθn'}\n"
     ]
    }
   ],
   "source": [
    "print(json_data['results'][0]['lexicalEntries'][0]['entries'][0]['pronunciations'][0])"
   ],
   "metadata": {
    "collapsed": false,
    "pycharm": {
     "name": "#%%\n"
    }
   }
  },
  {
   "cell_type": "code",
   "execution_count": 46,
   "outputs": [
    {
     "name": "stdout",
     "output_type": "stream",
     "text": [
      "'https://audio.oxforddictionaries.com/en/mp3/python_1_gb_2.mp3'\n"
     ]
    }
   ],
   "source": [
    "audio_file = json_data['results'][0]['lexicalEntries'][0]['entries'][0]['pronunciations'][0]['audioFile']\n",
    "print(audio_file)"
   ],
   "metadata": {
    "collapsed": false,
    "pycharm": {
     "name": "#%%\n"
    }
   }
  },
  {
   "cell_type": "code",
   "execution_count": 47,
   "outputs": [
    {
     "name": "stdout",
     "output_type": "stream",
     "text": [
      "[{'definitions': ['a large heavy-bodied non-venomous snake occurring '\n",
      "                  'throughout the Old World tropics, killing prey by '\n",
      "                  'constriction and asphyxiation.'],\n",
      "  'domainClasses': [{'id': 'reptile', 'text': 'Reptile'}],\n",
      "  'id': 'm_en_gbus0833540.009',\n",
      "  'notes': [{'text': 'Family Pythonidae: genera Python (of Asia and Africa), '\n",
      "                     'and Morelia and Aspidites (of Australasia)',\n",
      "             'type': 'technicalNote'}],\n",
      "  'semanticClasses': [{'id': 'snake', 'text': 'Snake'}],\n",
      "  'shortDefinitions': ['large heavy-bodied non-venomous snake occurring '\n",
      "                       'throughout Old World tropics']},\n",
      " {'definitions': ['a high-level general-purpose programming language.'],\n",
      "  'domainClasses': [{'id': 'computing', 'text': 'Computing'}],\n",
      "  'domains': [{'id': 'computing', 'text': 'Computing'}],\n",
      "  'id': 'm_en_gbus0833540.014',\n",
      "  'notes': [{'text': 'mass noun', 'type': 'grammaticalNote'}],\n",
      "  'semanticClasses': [{'id': 'computer_language', 'text': 'Computer_Language'}],\n",
      "  'shortDefinitions': ['high-level general-purpose programming language'],\n",
      "  'variantForms': [{'text': 'Python'}]}]\n"
     ]
    }
   ],
   "source": [
    "print(json_data['results'][0]['lexicalEntries'][0]['entries'][0]['senses'])"
   ],
   "metadata": {
    "collapsed": false,
    "pycharm": {
     "name": "#%%\n"
    }
   }
  },
  {
   "cell_type": "code",
   "execution_count": 48,
   "outputs": [],
   "source": [
    "senses = json_data['results'][0]['lexicalEntries'][0]['entries'][0]['senses']"
   ],
   "metadata": {
    "collapsed": false,
    "pycharm": {
     "name": "#%%\n"
    }
   }
  },
  {
   "cell_type": "code",
   "execution_count": 55,
   "outputs": [],
   "source": [
    "definitions = [sense['definitions'] for sense in senses]"
   ],
   "metadata": {
    "collapsed": false,
    "pycharm": {
     "name": "#%%\n"
    }
   }
  },
  {
   "cell_type": "code",
   "execution_count": 56,
   "outputs": [
    {
     "name": "stdout",
     "output_type": "stream",
     "text": [
      "[['a large heavy-bodied non-venomous snake occurring throughout the Old World '\n",
      "  'tropics, killing prey by constriction and asphyxiation.'],\n",
      " ['a high-level general-purpose programming language.']]\n"
     ]
    }
   ],
   "source": [
    "print(definitions)"
   ],
   "metadata": {
    "collapsed": false,
    "pycharm": {
     "name": "#%%\n"
    }
   }
  },
  {
   "cell_type": "code",
   "execution_count": null,
   "outputs": [],
   "source": [],
   "metadata": {
    "collapsed": false,
    "pycharm": {
     "name": "#%%\n"
    }
   }
  }
 ],
 "metadata": {
  "kernelspec": {
   "display_name": "Python 3",
   "language": "python",
   "name": "python3"
  },
  "language_info": {
   "codemirror_mode": {
    "name": "ipython",
    "version": 2
   },
   "file_extension": ".py",
   "mimetype": "text/x-python",
   "name": "python",
   "nbconvert_exporter": "python",
   "pygments_lexer": "ipython2",
   "version": "2.7.6"
  }
 },
 "nbformat": 4,
 "nbformat_minor": 0
}